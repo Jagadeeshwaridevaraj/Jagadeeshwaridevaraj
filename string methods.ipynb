{
 "cells": [
  {
   "cell_type": "markdown",
   "id": "e087d45f-1ea1-48ea-a49b-dd140383a603",
   "metadata": {},
   "source": [
    "# String Methods"
   ]
  },
  {
   "cell_type": "code",
   "execution_count": 53,
   "id": "58631ed3-23e3-4064-b33a-a51f1b19df24",
   "metadata": {},
   "outputs": [
    {
     "name": "stdout",
     "output_type": "stream",
     "text": [
      "TO CONVERT LOWERCASE INTO UPPERCASE:\n",
      "Lowercase Input: janani\n",
      "Uppercase Output: JANANI\n"
     ]
    }
   ],
   "source": [
    "# To convert lowercase to upper case\n",
    "print(\"TO CONVERT LOWERCASE INTO UPPERCASE:\")\n",
    "name=\"janani\" \n",
    "print(\"Lowercase Input:\",name)\n",
    "case=name.swapcase() \n",
    "print(\"Uppercase Output:\",case)"
   ]
  },
  {
   "cell_type": "code",
   "execution_count": 58,
   "id": "b032432b-bff2-4316-9ad0-0d0c9faf12e9",
   "metadata": {},
   "outputs": [
    {
     "name": "stdout",
     "output_type": "stream",
     "text": [
      "input title: janani\n",
      "output: Janani\n"
     ]
    }
   ],
   "source": [
    "# To change the the first character of word to upper case\n",
    "\n",
    "name=\"janani\"\n",
    "print(\"input title:\",name)\n",
    "case=name.title()\n",
    "print(\"output:\",case)"
   ]
  },
  {
   "cell_type": "code",
   "execution_count": 64,
   "id": "a851bda8-5706-49f6-9252-9629931fff19",
   "metadata": {},
   "outputs": [
    {
     "name": "stdout",
     "output_type": "stream",
     "text": [
      "input string:    janani    \n",
      "output: janani\n"
     ]
    }
   ],
   "source": [
    "#To trim the string with spaces removed\n",
    "\n",
    "name=\"   janani    \" \n",
    "print(\"input string:\",name)\n",
    "case=name.strip()\n",
    "print(\"output:\",case)"
   ]
  },
  {
   "cell_type": "code",
   "execution_count": 71,
   "id": "b8481654-da26-4286-aa43-9e70ee21975d",
   "metadata": {},
   "outputs": [
    {
     "name": "stdout",
     "output_type": "stream",
     "text": [
      "['janani', 'loves', 'books']\n"
     ]
    }
   ],
   "source": [
    "#To split the string using separator\n",
    "\n",
    "name=\"janani loves travel\" \n",
    "case=name.split()\n",
    "print(case)"
   ]
  },
  {
   "cell_type": "code",
   "execution_count": 19,
   "id": "66e2cc4c-fb7b-44b4-9e82-91db607435df",
   "metadata": {},
   "outputs": [
    {
     "name": "stdout",
     "output_type": "stream",
     "text": [
      "True\n"
     ]
    }
   ],
   "source": [
    "#To know which are printable in given string\n",
    "\n",
    "name=\"janani@there\" \n",
    "case=name.isprintable()\n",
    "print(case)"
   ]
  },
  {
   "cell_type": "code",
   "execution_count": 20,
   "id": "391f480d-fe6e-448d-aeca-b731bb980124",
   "metadata": {},
   "outputs": [
    {
     "name": "stdout",
     "output_type": "stream",
     "text": [
      "False\n"
     ]
    }
   ],
   "source": [
    "# To know which are printable in given string \n",
    "'''\\n \\n character is used to represent a new line'''\n",
    "\n",
    "name=\"janani\\n@there\" \n",
    "case=name.isprintable()\n",
    "print(case)"
   ]
  },
  {
   "cell_type": "code",
   "execution_count": 24,
   "id": "7bb59c94-2746-49a3-834c-01d5ebb904d3",
   "metadata": {},
   "outputs": [
    {
     "name": "stdout",
     "output_type": "stream",
     "text": [
      "5\n"
     ]
    }
   ],
   "source": [
    "# To find the index in given string\n",
    "name=\"janani\" \n",
    "case=name.index(\"i\")\n",
    "print(case)"
   ]
  },
  {
   "cell_type": "code",
   "execution_count": 25,
   "id": "4e5c5179-ca54-44b4-8f0a-2fb3f516dfaf",
   "metadata": {},
   "outputs": [
    {
     "name": "stdout",
     "output_type": "stream",
     "text": [
      "False\n"
     ]
    }
   ],
   "source": [
    "# To find whether the string is numeric or not\n",
    "\n",
    "name=\"janani\" \n",
    "case=name.isnumeric()\n",
    "print(case)"
   ]
  },
  {
   "cell_type": "code",
   "execution_count": 26,
   "id": "4403880f-1eb2-4fed-b41c-31c84b734127",
   "metadata": {},
   "outputs": [
    {
     "name": "stdout",
     "output_type": "stream",
     "text": [
      "True\n"
     ]
    }
   ],
   "source": [
    "# To find whether the string is numeric or not \n",
    "name=\"12345\" \n",
    "case=name.isnumeric()\n",
    "print(case)"
   ]
  },
  {
   "cell_type": "code",
   "execution_count": 28,
   "id": "149151db-bcb2-4a71-8ebe-08684f002374",
   "metadata": {},
   "outputs": [
    {
     "name": "stdout",
     "output_type": "stream",
     "text": [
      "3\n"
     ]
    }
   ],
   "source": [
    "# To find whether the string is numeric or not\n",
    "\n",
    "name=\"janani is janani,janani loves travel\" \n",
    "case=name.count(\"janani\")\n",
    "print(case)"
   ]
  },
  {
   "cell_type": "code",
   "execution_count": 8,
   "id": "f03af33b-c176-41d5-a18e-6002d5fcd446",
   "metadata": {},
   "outputs": [
    {
     "name": "stdout",
     "output_type": "stream",
     "text": [
      "input strings: ('janani', 'devaraj')\n",
      "output: janani#devaraj\n"
     ]
    }
   ],
   "source": [
    "# To join the two strings using separator\n",
    "\n",
    "name=\"janani\",\"devaraj\"\n",
    "print(\"input strings:\",name)\n",
    "case=\"#\".join(name)\n",
    "print(\"output:\",case)"
   ]
  },
  {
   "cell_type": "code",
   "execution_count": 7,
   "id": "4b008c07-f65a-47b3-8ff3-efd6d833878e",
   "metadata": {},
   "outputs": [
    {
     "name": "stdout",
     "output_type": "stream",
     "text": [
      "input strings: ('janani', 'devaraj')\n",
      "output: jananidevaraj\n"
     ]
    }
   ],
   "source": [
    "name=\"janani\",\"devaraj\"\n",
    "print(\"input strings:\",name)\n",
    "case=\"\".join(name)\n",
    "print(\"output:\",case)"
   ]
  }
 ],
 "metadata": {
  "kernelspec": {
   "display_name": "Python 3 (ipykernel)",
   "language": "python",
   "name": "python3"
  },
  "language_info": {
   "codemirror_mode": {
    "name": "ipython",
    "version": 3
   },
   "file_extension": ".py",
   "mimetype": "text/x-python",
   "name": "python",
   "nbconvert_exporter": "python",
   "pygments_lexer": "ipython3",
   "version": "3.9.6"
  }
 },
 "nbformat": 4,
 "nbformat_minor": 5
}
