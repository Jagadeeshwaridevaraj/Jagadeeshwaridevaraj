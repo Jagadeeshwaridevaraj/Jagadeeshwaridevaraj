{
 "cells": [
  {
   "cell_type": "markdown",
   "id": "bec8d2c4-321e-4302-ad01-38e67dd3d35a",
   "metadata": {},
   "source": [
    "# functions()"
   ]
  },
  {
   "cell_type": "code",
   "execution_count": 1,
   "id": "3c2ced9a-f3dc-488c-b2d2-d934e5fbe434",
   "metadata": {},
   "outputs": [
    {
     "name": "stdin",
     "output_type": "stream",
     "text": [
      "Enter a: 20\n",
      "Enter b: 5\n"
     ]
    },
    {
     "data": {
      "text/plain": [
       "25"
      ]
     },
     "execution_count": 1,
     "metadata": {},
     "output_type": "execute_result"
    }
   ],
   "source": [
    "# write the function for addition and get the inputs from user:\n",
    "\n",
    "def add():\n",
    "    a=int(input(\"Enter a:\"))\n",
    "    b=int(input(\"Enter b:\"))\n",
    "    sum=a+b\n",
    "    return sum\n",
    "add()"
   ]
  }
 ],
 "metadata": {
  "kernelspec": {
   "display_name": "Python 3 (ipykernel)",
   "language": "python",
   "name": "python3"
  },
  "language_info": {
   "codemirror_mode": {
    "name": "ipython",
    "version": 3
   },
   "file_extension": ".py",
   "mimetype": "text/x-python",
   "name": "python",
   "nbconvert_exporter": "python",
   "pygments_lexer": "ipython3",
   "version": "3.9.6"
  }
 },
 "nbformat": 4,
 "nbformat_minor": 5
}
